{
 "cells": [
  {
   "cell_type": "code",
   "execution_count": 6,
   "metadata": {},
   "outputs": [],
   "source": [
    "import numpy \n",
    "from PIL import Image\n",
    "from numpy import asarray\n",
    "import pandas as pd\n",
    "import cv2 as cv\n",
    "from skimage import io\n",
    "from PIL import Image\n",
    "import matplotlib.pylab as plt\n",
    "from numpy import array\n",
    "from sys import getsizeof"
   ]
  },
  {
   "cell_type": "code",
   "execution_count": 7,
   "metadata": {},
   "outputs": [],
   "source": [
    "# Reading the csv file\n",
    "df = pd.read_csv(\"maleDataSet.csv\")\n",
    "\n",
    "# Directory of the images\n",
    "# Always use forward slash (/) instead of backslash (\\) in python\n",
    "# Use a forward slash at the end of the path otherwise it will give an error of \"No such file or directory\"\n",
    "src_path = \"G:/python_workspaces/Images To Numpy Array/maleImages/\""
   ]
  },
  {
   "cell_type": "markdown",
   "metadata": {},
   "source": [
    "CREATING A METHOD WHICH WILL RETURN FLATTENED ARRAY OF ALL IMAGES.\n",
    "\n",
    "1. Creating a Method which will take local directory path of the image as parameter.\n",
    "\n",
    "2. This Local Address will be used to open the image \n",
    "    for example : image = Image.open('G:/python_workspaces/Images To Numpy Array/maleImages/9662.jpg')\n",
    "\n",
    "3. Once the Images is opened, it is converted into an NDARRAY \n",
    "\n",
    "4. Now this NDARRAY is flattened i.e Converted into 1D Array. \n",
    "\n",
    "5. Since all of the above steps are for Single Image, implemnet a for loop for Multiple Images.\n",
    "\n",
    "6. When a single image is Flattened, append it into another array. Repeat for all Images. \n",
    "\n",
    "7. Resultant Array which is flattened is 2-Dimensional Array. "
   ]
  },
  {
   "cell_type": "code",
   "execution_count": 8,
   "metadata": {},
   "outputs": [],
   "source": [
    "def ndArray_Flattened(folderPathOfImage):\n",
    "    files = []\n",
    "    resultantFlattenedNumpyArray = []\n",
    "    for f in df['id']:\n",
    "        # saving the path of the image in a variable because we have to use it to read the image using `io.imread()` function. \n",
    "        # The Path of the Image will be passed as an argument to the `io.imread()` function.\n",
    "        imagePathVariable = folderPathOfImage + str(f)+'.jpg'\n",
    "        # print(imagePathVariable)\n",
    "        \n",
    "        # Opening the image whose path is stored in the variable `imagePathVariable`\n",
    "        image = Image.open(imagePathVariable)\n",
    "        \n",
    "        # Using numpy.array() function to convert the image to numpy array\n",
    "        numpyArrayImg = numpy.array(image)\n",
    "        \n",
    "        # flattening the numpy array\n",
    "        flattenedNumpyArray = numpyArrayImg.flatten()\n",
    "        \n",
    "        # Resultant flattened numpy array\n",
    "        # resultantFlattenedNumpyArray is now  a 2-D array\n",
    "        # resultantFlattenedNumpyArray = [ \n",
    "        #   [ flattened array of 1st Image], \n",
    "        #   [flattened array of 2nd Image], .... ]\n",
    "        # ] \n",
    "        resultantFlattenedNumpyArray.append([flattenedNumpyArray])\n",
    "        \n",
    "        # We are storing the path of the image in a list so that we can use it later. \n",
    "        files.append(imagePathVariable)\n",
    "        \n",
    "    return (resultantFlattenedNumpyArray)\n",
    "        \n",
    "        \n",
    "        \n",
    "        \n",
    "\n",
    "    # image = io.imread(addressOfImage)\n",
    "    # # Using numpy.array() function\n",
    "    # np_img = numpy.array(image)\n",
    "    "
   ]
  },
  {
   "cell_type": "code",
   "execution_count": null,
   "metadata": {},
   "outputs": [],
   "source": [
    "ndArray_Flattened(src_path)"
   ]
  },
  {
   "cell_type": "markdown",
   "metadata": {},
   "source": [
    "Labelling Of Fashion Dataset according to two classifications. \n",
    "1. Topwear or Bottomwear.\n",
    "2. Casual or Formal."
   ]
  },
  {
   "cell_type": "code",
   "execution_count": 9,
   "metadata": {},
   "outputs": [],
   "source": [
    "# For topwear and bottomwear we have to use the subCategory column\n",
    "subCategoryDF = df['subCategory']"
   ]
  },
  {
   "cell_type": "code",
   "execution_count": 10,
   "metadata": {},
   "outputs": [
    {
     "name": "stdout",
     "output_type": "stream",
     "text": [
      "0           Topwear\n",
      "1        Bottomwear\n",
      "2        Bottomwear\n",
      "3           Topwear\n",
      "4           Topwear\n",
      "            ...    \n",
      "25055          Bags\n",
      "25056       Topwear\n",
      "25057       Watches\n",
      "25058         Shoes\n",
      "25059          Bags\n",
      "Name: subCategory, Length: 25060, dtype: object\n"
     ]
    }
   ],
   "source": [
    "print(subCategoryDF)"
   ]
  },
  {
   "cell_type": "code",
   "execution_count": 15,
   "metadata": {},
   "outputs": [
    {
     "data": {
      "text/plain": [
       "Topwear                     9543\n",
       "Shoes                       4761\n",
       "Watches                     1624\n",
       "Bottomwear                  1506\n",
       "Innerwear                    990\n",
       "Bags                         982\n",
       "Sandal                       888\n",
       "Eyewear                      749\n",
       "Flip Flops                   659\n",
       "Socks                        613\n",
       "Fragrance                    579\n",
       "Belts                        548\n",
       "Wallets                      462\n",
       "Headwear                     266\n",
       "Ties                         258\n",
       "Accessories                  124\n",
       "Loungewear and Nightwear     124\n",
       "Cufflinks                    106\n",
       "Jewellery                     64\n",
       "Free Gifts                    62\n",
       "Scarves                       46\n",
       "Mufflers                      30\n",
       "Sports Equipment              21\n",
       "Gloves                        14\n",
       "Apparel Set                   11\n",
       "Water Bottle                   7\n",
       "Shoe Accessories               4\n",
       "Wristbands                     4\n",
       "Stoles                         3\n",
       "Sports Accessories             3\n",
       "Perfumes                       3\n",
       "Skin Care                      2\n",
       "Hair                           2\n",
       "Home Furnishing                1\n",
       "Bath and Body                  1\n",
       "Name: subCategory, dtype: int64"
      ]
     },
     "execution_count": 15,
     "metadata": {},
     "output_type": "execute_result"
    }
   ],
   "source": [
    "# In order to know the classes of the subCategory column\n",
    "subCategoryDF.value_counts()\n",
    "# subCategory column has 35 classes\n",
    "# we will select only 2 classes for now\n",
    "# topwear and bottomwear\n",
    "# Number of images in topwear =  9543\n",
    "# Number of images in bottomwear =  1506\n",
    "# 9543 + 1506 = 11049 images\n",
    "# Downsizing of the dataset by almost half."
   ]
  },
  {
   "cell_type": "code",
   "execution_count": null,
   "metadata": {},
   "outputs": [],
   "source": []
  }
 ],
 "metadata": {
  "kernelspec": {
   "display_name": "Python 3.9.4 64-bit",
   "language": "python",
   "name": "python3"
  },
  "language_info": {
   "codemirror_mode": {
    "name": "ipython",
    "version": 3
   },
   "file_extension": ".py",
   "mimetype": "text/x-python",
   "name": "python",
   "nbconvert_exporter": "python",
   "pygments_lexer": "ipython3",
   "version": "3.9.4"
  },
  "orig_nbformat": 4,
  "vscode": {
   "interpreter": {
    "hash": "69713e280fccb9aa802931bf1b98f79efcfe938b3ab1e86cc85b2e647522a81d"
   }
  }
 },
 "nbformat": 4,
 "nbformat_minor": 2
}

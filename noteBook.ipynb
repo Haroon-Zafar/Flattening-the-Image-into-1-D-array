{
 "cells": [
  {
   "cell_type": "code",
   "execution_count": 1,
   "metadata": {},
   "outputs": [],
   "source": [
    "# Importing the libraries\n",
    "import numpy \n",
    "from PIL import Image\n",
    "from numpy import asarray"
   ]
  },
  {
   "cell_type": "code",
   "execution_count": 2,
   "metadata": {},
   "outputs": [
    {
     "name": "stdout",
     "output_type": "stream",
     "text": [
      "JPEG\n",
      "(60, 80)\n",
      "RGB\n"
     ]
    }
   ],
   "source": [
    "# Opening the image named '9662.jpg'\n",
    "\n",
    "image = Image.open('9662.jpg')\n",
    "# summarize some details about the image\n",
    "print(image.format)\n",
    "print(image.size)\n",
    "print(image.mode)"
   ]
  },
  {
   "cell_type": "code",
   "execution_count": 3,
   "metadata": {},
   "outputs": [],
   "source": [
    "# Using NumPy module to Convert images to NumPy array\n",
    "\n",
    "numpydata = asarray(image)"
   ]
  },
  {
   "cell_type": "code",
   "execution_count": 4,
   "metadata": {},
   "outputs": [
    {
     "name": "stdout",
     "output_type": "stream",
     "text": [
      "<class 'numpy.ndarray'>\n"
     ]
    }
   ],
   "source": [
    "# <class 'numpy.ndarray'>\n",
    "print(type(numpydata))"
   ]
  },
  {
   "cell_type": "code",
   "execution_count": 5,
   "metadata": {},
   "outputs": [
    {
     "name": "stdout",
     "output_type": "stream",
     "text": [
      "[[[255 255 255]\n",
      "  [255 255 255]\n",
      "  [255 255 255]\n",
      "  ...\n",
      "  [255 255 255]\n",
      "  [255 255 255]\n",
      "  [255 255 255]]\n",
      "\n",
      " [[255 255 255]\n",
      "  [255 255 255]\n",
      "  [255 255 255]\n",
      "  ...\n",
      "  [255 255 255]\n",
      "  [255 255 255]\n",
      "  [255 255 255]]\n",
      "\n",
      " [[255 255 255]\n",
      "  [255 255 255]\n",
      "  [255 255 255]\n",
      "  ...\n",
      "  [255 255 255]\n",
      "  [255 255 255]\n",
      "  [255 255 255]]\n",
      "\n",
      " ...\n",
      "\n",
      " [[254 255 255]\n",
      "  [239 241 240]\n",
      "  [255 255 255]\n",
      "  ...\n",
      "  [255 251 241]\n",
      "  [255 252 249]\n",
      "  [252 255 255]]\n",
      "\n",
      " [[249 249 249]\n",
      "  [255 255 255]\n",
      "  [255 255 255]\n",
      "  ...\n",
      "  [255 252 247]\n",
      "  [242 243 245]\n",
      "  [248 255 255]]\n",
      "\n",
      " [[255 254 255]\n",
      "  [255 254 255]\n",
      "  [244 244 244]\n",
      "  ...\n",
      "  [255 254 250]\n",
      "  [251 255 255]\n",
      "  [237 248 254]]]\n"
     ]
    }
   ],
   "source": [
    "print(numpydata)"
   ]
  },
  {
   "cell_type": "code",
   "execution_count": 6,
   "metadata": {},
   "outputs": [
    {
     "data": {
      "text/plain": [
       "array([[[255, 255, 255],\n",
       "        [255, 255, 255],\n",
       "        [255, 255, 255],\n",
       "        ...,\n",
       "        [255, 255, 255],\n",
       "        [255, 255, 255],\n",
       "        [255, 255, 255]],\n",
       "\n",
       "       [[255, 255, 255],\n",
       "        [255, 255, 255],\n",
       "        [255, 255, 255],\n",
       "        ...,\n",
       "        [255, 255, 255],\n",
       "        [255, 255, 255],\n",
       "        [255, 255, 255]],\n",
       "\n",
       "       [[255, 255, 255],\n",
       "        [255, 255, 255],\n",
       "        [255, 255, 255],\n",
       "        ...,\n",
       "        [255, 255, 255],\n",
       "        [255, 255, 255],\n",
       "        [255, 255, 255]],\n",
       "\n",
       "       ...,\n",
       "\n",
       "       [[254, 255, 255],\n",
       "        [239, 241, 240],\n",
       "        [255, 255, 255],\n",
       "        ...,\n",
       "        [255, 251, 241],\n",
       "        [255, 252, 249],\n",
       "        [252, 255, 255]],\n",
       "\n",
       "       [[249, 249, 249],\n",
       "        [255, 255, 255],\n",
       "        [255, 255, 255],\n",
       "        ...,\n",
       "        [255, 252, 247],\n",
       "        [242, 243, 245],\n",
       "        [248, 255, 255]],\n",
       "\n",
       "       [[255, 254, 255],\n",
       "        [255, 254, 255],\n",
       "        [244, 244, 244],\n",
       "        ...,\n",
       "        [255, 254, 250],\n",
       "        [251, 255, 255],\n",
       "        [237, 248, 254]]], dtype=uint8)"
      ]
     },
     "execution_count": 6,
     "metadata": {},
     "output_type": "execute_result"
    }
   ],
   "source": [
    "numpydata"
   ]
  },
  {
   "cell_type": "code",
   "execution_count": 7,
   "metadata": {},
   "outputs": [],
   "source": [
    "# Using numpy.array() function\n",
    "np_img = numpy.array(image)"
   ]
  },
  {
   "cell_type": "code",
   "execution_count": 8,
   "metadata": {},
   "outputs": [
    {
     "name": "stdout",
     "output_type": "stream",
     "text": [
      "(80, 60, 3)\n"
     ]
    }
   ],
   "source": [
    "print(np_img.shape)"
   ]
  },
  {
   "cell_type": "code",
   "execution_count": 9,
   "metadata": {},
   "outputs": [
    {
     "name": "stdout",
     "output_type": "stream",
     "text": [
      "<class 'PIL.Image.Image'>\n"
     ]
    }
   ],
   "source": [
    "# Getting back the image from converted Numpy Array\n",
    "\n",
    "pilImage = Image.fromarray(numpydata)\n",
    "print(type(pilImage))"
   ]
  },
  {
   "cell_type": "code",
   "execution_count": 10,
   "metadata": {},
   "outputs": [
    {
     "name": "stdout",
     "output_type": "stream",
     "text": [
      "<PIL.Image.Image image mode=RGB size=60x80 at 0x163E7177610>\n"
     ]
    }
   ],
   "source": [
    "print(pilImage)"
   ]
  },
  {
   "cell_type": "code",
   "execution_count": 11,
   "metadata": {},
   "outputs": [
    {
     "name": "stdout",
     "output_type": "stream",
     "text": [
      "Mode : RGB\n",
      "Size : (60, 80)\n"
     ]
    }
   ],
   "source": [
    "print(\"Mode :\",pilImage.mode)\n",
    "\n",
    "print(\"Size :\",pilImage.size)"
   ]
  },
  {
   "cell_type": "code",
   "execution_count": 12,
   "metadata": {},
   "outputs": [
    {
     "data": {
      "image/png": "[encoded data removed]",
      "text/plain": [
       "<PIL.Image.Image image mode=RGB size=60x80>"
      ]
     },
     "execution_count": 12,
     "metadata": {},
     "output_type": "execute_result"
    }
   ],
   "source": [
    "pilImage"
   ]
  },
  {
   "cell_type": "markdown",
   "metadata": {},
   "source": [
    "FLATTENING THE IMAGE. "
   ]
  },
  {
   "cell_type": "code",
   "execution_count": 13,
   "metadata": {},
   "outputs": [],
   "source": [
    "# IMPORTING ESSENTIAL LIBRARIES\n",
    "import numpy as np\n",
    "import pandas as pd\n",
    "import cv2 as cv\n",
    "from skimage import io\n",
    "from PIL import Image\n",
    "import matplotlib.pylab as plt\n",
    "from numpy import array\n",
    "from sys import getsizeof"
   ]
  },
  {
   "cell_type": "markdown",
   "metadata": {},
   "source": [
    "Fetching a image from the same directory."
   ]
  },
  {
   "cell_type": "code",
   "execution_count": 14,
   "metadata": {},
   "outputs": [],
   "source": [
    "image = io.imread('9662.jpg')"
   ]
  },
  {
   "cell_type": "markdown",
   "metadata": {},
   "source": [
    "Transforming the image into a multi-dimensional array"
   ]
  },
  {
   "cell_type": "code",
   "execution_count": 15,
   "metadata": {},
   "outputs": [],
   "source": [
    "#Getting the multi-dimensional array from the image\n",
    "array1 = array(image)"
   ]
  },
  {
   "cell_type": "code",
   "execution_count": 16,
   "metadata": {},
   "outputs": [
    {
     "name": "stdout",
     "output_type": "stream",
     "text": [
      "[[[255 255 255]\n",
      "  [255 255 255]\n",
      "  [255 255 255]\n",
      "  ...\n",
      "  [255 255 255]\n",
      "  [255 255 255]\n",
      "  [255 255 255]]\n",
      "\n",
      " [[255 255 255]\n",
      "  [255 255 255]\n",
      "  [255 255 255]\n",
      "  ...\n",
      "  [255 255 255]\n",
      "  [255 255 255]\n",
      "  [255 255 255]]\n",
      "\n",
      " [[255 255 255]\n",
      "  [255 255 255]\n",
      "  [255 255 255]\n",
      "  ...\n",
      "  [255 255 255]\n",
      "  [255 255 255]\n",
      "  [255 255 255]]\n",
      "\n",
      " ...\n",
      "\n",
      " [[254 255 255]\n",
      "  [239 241 240]\n",
      "  [255 255 255]\n",
      "  ...\n",
      "  [255 251 241]\n",
      "  [255 252 249]\n",
      "  [252 255 255]]\n",
      "\n",
      " [[249 249 249]\n",
      "  [255 255 255]\n",
      "  [255 255 255]\n",
      "  ...\n",
      "  [255 252 247]\n",
      "  [242 243 245]\n",
      "  [248 255 255]]\n",
      "\n",
      " [[255 254 255]\n",
      "  [255 254 255]\n",
      "  [244 244 244]\n",
      "  ...\n",
      "  [255 254 250]\n",
      "  [251 255 255]\n",
      "  [237 248 254]]]\n"
     ]
    }
   ],
   "source": [
    "#Memory occupied by the multi-dimensional array\n",
    "size1 = getsizeof(array1)\n",
    "print(array1)"
   ]
  },
  {
   "cell_type": "markdown",
   "metadata": {},
   "source": [
    "Now Flattening the multi-dimensional array using flatten() function\n",
    "\n"
   ]
  },
  {
   "cell_type": "code",
   "execution_count": 17,
   "metadata": {},
   "outputs": [
    {
     "name": "stdout",
     "output_type": "stream",
     "text": [
      "[255 255 255 ... 237 248 254]\n"
     ]
    }
   ],
   "source": [
    "#Using Flatten function on array 1 to convert the multi-dimensional \n",
    "# array to 1-D array\n",
    "array2 = array1.flatten()\n",
    "#Memory occupied by array 2\n",
    "\n",
    "# the getsizeof() method returns 64 bytes for an empty list and then 8 bytes for every additional element \n",
    "size2 = getsizeof(array2)\n",
    "#displaying the 1-D array\n",
    "print(array2)"
   ]
  },
  {
   "cell_type": "markdown",
   "metadata": {},
   "source": [
    "Result of Flattening"
   ]
  },
  {
   "cell_type": "code",
   "execution_count": 18,
   "metadata": {},
   "outputs": [
    {
     "name": "stdout",
     "output_type": "stream",
     "text": [
      "Size of Multidimensional Image : 14544\n",
      "Size of Flattened Image : 14512\n",
      "Size difference in the images:  32\n"
     ]
    }
   ],
   "source": [
    "#Print the two different size's of the array\n",
    "# Size is in bytes\n",
    "print(f\"Size of Multidimensional Image : {size1}\")\n",
    "print(f\"Size of Flattened Image : {size2}\")\n",
    "difference = size1 - size2\n",
    "#Print the difference of memory between the size of Multidimensional & 1-D array\n",
    "print(\"Size difference in the images: \", difference)"
   ]
  },
  {
   "cell_type": "markdown",
   "metadata": {},
   "source": [
    "PreProcessing for Labelling of Images"
   ]
  },
  {
   "cell_type": "code",
   "execution_count": 19,
   "metadata": {},
   "outputs": [],
   "source": [
    "# Reading the csv file\n",
    "df = pd.read_csv(\"maleDataSet.csv\")"
   ]
  },
  {
   "cell_type": "code",
   "execution_count": 20,
   "metadata": {},
   "outputs": [],
   "source": [
    "target = df['usage']"
   ]
  },
  {
   "cell_type": "code",
   "execution_count": 21,
   "metadata": {},
   "outputs": [
    {
     "data": {
      "text/plain": [
       "0        Casual\n",
       "1        Casual\n",
       "2        Casual\n",
       "3        Casual\n",
       "4        Casual\n",
       "          ...  \n",
       "25060    Casual\n",
       "25061    Casual\n",
       "25062    Casual\n",
       "25063    Casual\n",
       "25064    Casual\n",
       "Name: usage, Length: 25065, dtype: object"
      ]
     },
     "execution_count": 21,
     "metadata": {},
     "output_type": "execute_result"
    }
   ],
   "source": [
    "target\n",
    "# Here we don't need to exclude null values as we have already removed them in the making of MaleDataSet.csv file"
   ]
  },
  {
   "cell_type": "code",
   "execution_count": 22,
   "metadata": {},
   "outputs": [
    {
     "data": {
      "text/plain": [
       "Casual          19389\n",
       "Sports           3244\n",
       "Formal           2236\n",
       "Ethnic            117\n",
       "Smart Casual       54\n",
       "Travel             22\n",
       "Party               2\n",
       "Home                1\n",
       "Name: usage, dtype: int64"
      ]
     },
     "execution_count": 22,
     "metadata": {},
     "output_type": "execute_result"
    }
   ],
   "source": [
    "target.value_counts()    "
   ]
  },
  {
   "cell_type": "code",
   "execution_count": 23,
   "metadata": {},
   "outputs": [],
   "source": [
    "# `usage` column contains the following classes\n",
    "# Casual          19389\n",
    "# Sports           3244\n",
    "# Formal           2236\n",
    "# Ethnic            117\n",
    "# Smart Casual       54\n",
    "# Travel             22\n",
    "# Party               2\n",
    "# Home                1\n",
    "# Name: usage, dtype: int64\n",
    "# We are not sure about the type `ethnic` so we will try to see the images of it from our dataset that whether to put it in `casual` or `formal` category\n",
    "ethnicCategory = df.loc[(df['usage']=='Ethnic') ]"
   ]
  },
  {
   "cell_type": "code",
   "execution_count": 24,
   "metadata": {},
   "outputs": [
    {
     "data": {
      "text/html": [
       "<div>\n",
       "<style scoped>\n",
       "    .dataframe tbody tr th:only-of-type {\n",
       "        vertical-align: middle;\n",
       "    }\n",
       "\n",
       "    .dataframe tbody tr th {\n",
       "        vertical-align: top;\n",
       "    }\n",
       "\n",
       "    .dataframe thead th {\n",
       "        text-align: right;\n",
       "    }\n",
       "</style>\n",
       "<table border=\"1\" class=\"dataframe\">\n",
       "  <thead>\n",
       "    <tr style=\"text-align: right;\">\n",
       "      <th></th>\n",
       "      <th>id</th>\n",
       "      <th>gender</th>\n",
       "      <th>masterCategory</th>\n",
       "      <th>subCategory</th>\n",
       "      <th>articleType</th>\n",
       "      <th>baseColour</th>\n",
       "      <th>season</th>\n",
       "      <th>year</th>\n",
       "      <th>usage</th>\n",
       "      <th>productDisplayName</th>\n",
       "    </tr>\n",
       "  </thead>\n",
       "  <tbody>\n",
       "    <tr>\n",
       "      <th>5</th>\n",
       "      <td>30805</td>\n",
       "      <td>Men</td>\n",
       "      <td>Apparel</td>\n",
       "      <td>Topwear</td>\n",
       "      <td>Shirts</td>\n",
       "      <td>Green</td>\n",
       "      <td>Summer</td>\n",
       "      <td>2012.0</td>\n",
       "      <td>Ethnic</td>\n",
       "      <td>Fabindia Men Striped Green Shirt</td>\n",
       "    </tr>\n",
       "    <tr>\n",
       "      <th>240</th>\n",
       "      <td>30802</td>\n",
       "      <td>Men</td>\n",
       "      <td>Apparel</td>\n",
       "      <td>Topwear</td>\n",
       "      <td>Shirts</td>\n",
       "      <td>Blue</td>\n",
       "      <td>Summer</td>\n",
       "      <td>2012.0</td>\n",
       "      <td>Ethnic</td>\n",
       "      <td>Fabindia Men Blue Shirt</td>\n",
       "    </tr>\n",
       "    <tr>\n",
       "      <th>898</th>\n",
       "      <td>32196</td>\n",
       "      <td>Men</td>\n",
       "      <td>Apparel</td>\n",
       "      <td>Topwear</td>\n",
       "      <td>Kurtas</td>\n",
       "      <td>Blue</td>\n",
       "      <td>Summer</td>\n",
       "      <td>2012.0</td>\n",
       "      <td>Ethnic</td>\n",
       "      <td>Fabindia Men Printed Blue Kurta</td>\n",
       "    </tr>\n",
       "    <tr>\n",
       "      <th>1316</th>\n",
       "      <td>32198</td>\n",
       "      <td>Men</td>\n",
       "      <td>Apparel</td>\n",
       "      <td>Topwear</td>\n",
       "      <td>Kurtas</td>\n",
       "      <td>Grey</td>\n",
       "      <td>Summer</td>\n",
       "      <td>2012.0</td>\n",
       "      <td>Ethnic</td>\n",
       "      <td>Fabindia Men Printed Grey Kurta</td>\n",
       "    </tr>\n",
       "    <tr>\n",
       "      <th>1729</th>\n",
       "      <td>30803</td>\n",
       "      <td>Men</td>\n",
       "      <td>Apparel</td>\n",
       "      <td>Topwear</td>\n",
       "      <td>Shirts</td>\n",
       "      <td>Blue</td>\n",
       "      <td>Summer</td>\n",
       "      <td>2012.0</td>\n",
       "      <td>Ethnic</td>\n",
       "      <td>Fabindia Men Blue Shirt</td>\n",
       "    </tr>\n",
       "    <tr>\n",
       "      <th>...</th>\n",
       "      <td>...</td>\n",
       "      <td>...</td>\n",
       "      <td>...</td>\n",
       "      <td>...</td>\n",
       "      <td>...</td>\n",
       "      <td>...</td>\n",
       "      <td>...</td>\n",
       "      <td>...</td>\n",
       "      <td>...</td>\n",
       "      <td>...</td>\n",
       "    </tr>\n",
       "    <tr>\n",
       "      <th>22622</th>\n",
       "      <td>30718</td>\n",
       "      <td>Boys</td>\n",
       "      <td>Apparel</td>\n",
       "      <td>Apparel Set</td>\n",
       "      <td>Kurta Sets</td>\n",
       "      <td>Red</td>\n",
       "      <td>Summer</td>\n",
       "      <td>2012.0</td>\n",
       "      <td>Ethnic</td>\n",
       "      <td>Fabindia Boys Red &amp; Beige Angarakha Dhoti Set</td>\n",
       "    </tr>\n",
       "    <tr>\n",
       "      <th>22625</th>\n",
       "      <td>30720</td>\n",
       "      <td>Boys</td>\n",
       "      <td>Apparel</td>\n",
       "      <td>Topwear</td>\n",
       "      <td>Kurtas</td>\n",
       "      <td>Blue</td>\n",
       "      <td>Summer</td>\n",
       "      <td>2012.0</td>\n",
       "      <td>Ethnic</td>\n",
       "      <td>Fabindia Boys Printed Blue Kurta</td>\n",
       "    </tr>\n",
       "    <tr>\n",
       "      <th>22632</th>\n",
       "      <td>30716</td>\n",
       "      <td>Boys</td>\n",
       "      <td>Apparel</td>\n",
       "      <td>Apparel Set</td>\n",
       "      <td>Kurta Sets</td>\n",
       "      <td>Blue</td>\n",
       "      <td>Summer</td>\n",
       "      <td>2012.0</td>\n",
       "      <td>Ethnic</td>\n",
       "      <td>Fabindia Boys Blue Dhoti Angarakha Set</td>\n",
       "    </tr>\n",
       "    <tr>\n",
       "      <th>22682</th>\n",
       "      <td>30717</td>\n",
       "      <td>Boys</td>\n",
       "      <td>Apparel</td>\n",
       "      <td>Apparel Set</td>\n",
       "      <td>Kurta Sets</td>\n",
       "      <td>Green</td>\n",
       "      <td>Summer</td>\n",
       "      <td>2012.0</td>\n",
       "      <td>Ethnic</td>\n",
       "      <td>Fabindia Boys Green Dhoti Angarakha Sets</td>\n",
       "    </tr>\n",
       "    <tr>\n",
       "      <th>22692</th>\n",
       "      <td>30721</td>\n",
       "      <td>Boys</td>\n",
       "      <td>Apparel</td>\n",
       "      <td>Topwear</td>\n",
       "      <td>Kurtas</td>\n",
       "      <td>Green</td>\n",
       "      <td>Summer</td>\n",
       "      <td>2012.0</td>\n",
       "      <td>Ethnic</td>\n",
       "      <td>Fabindia Boys Printed Green Kurta</td>\n",
       "    </tr>\n",
       "  </tbody>\n",
       "</table>\n",
       "<p>117 rows × 10 columns</p>\n",
       "</div>"
      ],
      "text/plain": [
       "          id gender masterCategory  subCategory articleType baseColour  \\\n",
       "5      30805    Men        Apparel      Topwear      Shirts      Green   \n",
       "240    30802    Men        Apparel      Topwear      Shirts       Blue   \n",
       "898    32196    Men        Apparel      Topwear      Kurtas       Blue   \n",
       "1316   32198    Men        Apparel      Topwear      Kurtas       Grey   \n",
       "1729   30803    Men        Apparel      Topwear      Shirts       Blue   \n",
       "...      ...    ...            ...          ...         ...        ...   \n",
       "22622  30718   Boys        Apparel  Apparel Set  Kurta Sets        Red   \n",
       "22625  30720   Boys        Apparel      Topwear      Kurtas       Blue   \n",
       "22632  30716   Boys        Apparel  Apparel Set  Kurta Sets       Blue   \n",
       "22682  30717   Boys        Apparel  Apparel Set  Kurta Sets      Green   \n",
       "22692  30721   Boys        Apparel      Topwear      Kurtas      Green   \n",
       "\n",
       "       season    year   usage                             productDisplayName  \n",
       "5      Summer  2012.0  Ethnic               Fabindia Men Striped Green Shirt  \n",
       "240    Summer  2012.0  Ethnic                        Fabindia Men Blue Shirt  \n",
       "898    Summer  2012.0  Ethnic                Fabindia Men Printed Blue Kurta  \n",
       "1316   Summer  2012.0  Ethnic                Fabindia Men Printed Grey Kurta  \n",
       "1729   Summer  2012.0  Ethnic                        Fabindia Men Blue Shirt  \n",
       "...       ...     ...     ...                                            ...  \n",
       "22622  Summer  2012.0  Ethnic  Fabindia Boys Red & Beige Angarakha Dhoti Set  \n",
       "22625  Summer  2012.0  Ethnic               Fabindia Boys Printed Blue Kurta  \n",
       "22632  Summer  2012.0  Ethnic         Fabindia Boys Blue Dhoti Angarakha Set  \n",
       "22682  Summer  2012.0  Ethnic       Fabindia Boys Green Dhoti Angarakha Sets  \n",
       "22692  Summer  2012.0  Ethnic              Fabindia Boys Printed Green Kurta  \n",
       "\n",
       "[117 rows x 10 columns]"
      ]
     },
     "execution_count": 24,
     "metadata": {},
     "output_type": "execute_result"
    }
   ],
   "source": [
    "# Created a dataframe of images with `ethnic` category in `usage` column\n",
    "ethnicCategory"
   ]
  },
  {
   "cell_type": "code",
   "execution_count": 27,
   "metadata": {},
   "outputs": [],
   "source": [
    "# Now we will see the images of `ethnic` category\n",
    "# For that we have to iterate through the dataframe and display the images using id's of the images\n",
    "# We are doing it using `for` loop\n",
    "# USE FORWARD SLASHES !!!! \n",
    "src_path = \"G:\\python_workspaces\\Images To Numpy Array\\maleImages\"\n",
    "files = []\n",
    "for f in ethnicCategory['id']:\n",
    "    files.append(src_path + str(f)+'.jpg')"
   ]
  },
  {
   "cell_type": "code",
   "execution_count": 39,
   "metadata": {},
   "outputs": [
    {
     "ename": "FileNotFoundError",
     "evalue": "[Errno 2] No such file or directory: 'G:\\\\python_workspaces\\\\Images To Numpy Array\\\\maleImages30805.jpg'",
     "output_type": "error",
     "traceback": [
      "\u001b[1;31m---------------------------------------------------------------------------\u001b[0m",
      "\u001b[1;31mFileNotFoundError\u001b[0m                         Traceback (most recent call last)",
      "Cell \u001b[1;32mIn[39], line 3\u001b[0m\n\u001b[0;32m      1\u001b[0m files\n\u001b[0;32m      2\u001b[0m \u001b[39mfor\u001b[39;00m i \u001b[39min\u001b[39;00m \u001b[39mrange\u001b[39m(\u001b[39m5\u001b[39m):\n\u001b[1;32m----> 3\u001b[0m     image \u001b[39m=\u001b[39m Image\u001b[39m.\u001b[39;49mopen(files[\u001b[39m0\u001b[39;49m])\n",
      "File \u001b[1;32my:\\python\\lib\\site-packages\\PIL\\Image.py:3131\u001b[0m, in \u001b[0;36mopen\u001b[1;34m(fp, mode, formats)\u001b[0m\n\u001b[0;32m   3128\u001b[0m     filename \u001b[39m=\u001b[39m fp\n\u001b[0;32m   3130\u001b[0m \u001b[39mif\u001b[39;00m filename:\n\u001b[1;32m-> 3131\u001b[0m     fp \u001b[39m=\u001b[39m builtins\u001b[39m.\u001b[39;49mopen(filename, \u001b[39m\"\u001b[39;49m\u001b[39mrb\u001b[39;49m\u001b[39m\"\u001b[39;49m)\n\u001b[0;32m   3132\u001b[0m     exclusive_fp \u001b[39m=\u001b[39m \u001b[39mTrue\u001b[39;00m\n\u001b[0;32m   3134\u001b[0m \u001b[39mtry\u001b[39;00m:\n",
      "\u001b[1;31mFileNotFoundError\u001b[0m: [Errno 2] No such file or directory: 'G:\\\\python_workspaces\\\\Images To Numpy Array\\\\maleImages30805.jpg'"
     ]
    }
   ],
   "source": [
    "files\n",
    "for i in range(5):\n",
    "    image = Image.open(files[0])\n",
    "\n",
    "    "
   ]
  },
  {
   "cell_type": "code",
   "execution_count": null,
   "metadata": {},
   "outputs": [],
   "source": []
  }
 ],
 "metadata": {
  "kernelspec": {
   "display_name": "Python 3.9.4 64-bit",
   "language": "python",
   "name": "python3"
  },
  "language_info": {
   "codemirror_mode": {
    "name": "ipython",
    "version": 3
   },
   "file_extension": ".py",
   "mimetype": "text/x-python",
   "name": "python",
   "nbconvert_exporter": "python",
   "pygments_lexer": "ipython3",
   "version": "3.9.4"
  },
  "orig_nbformat": 4,
  "vscode": {
   "interpreter": {
    "hash": "69713e280fccb9aa802931bf1b98f79efcfe938b3ab1e86cc85b2e647522a81d"
   }
  }
 },
 "nbformat": 4,
 "nbformat_minor": 2
}

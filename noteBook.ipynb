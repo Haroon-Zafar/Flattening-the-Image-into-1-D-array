{
 "cells": [
  {
   "cell_type": "code",
   "execution_count": 2,
   "metadata": {},
   "outputs": [],
   "source": [
    "import numpy \n",
    "from PIL import Image\n",
    "from numpy import asarray\n",
    "import pandas as pd\n",
    "import cv2 as cv\n",
    "from skimage import io\n",
    "from PIL import Image\n",
    "import matplotlib.pylab as plt\n",
    "from numpy import array\n",
    "from sys import getsizeof\n",
    "import pandas as pd\n",
    "import numpy as np\n",
    "import os\n",
    "import tensorflow as tf\n",
    "import cv2\n",
    "from numpy import savetxt\n",
    "# from tensorflow import keras\n",
    "# from tensorflow.keras import layers, Dense, Input, InputLayer, Flatten\n",
    "# from tensorflow.keras.models import Sequential, Model\n",
    "from  matplotlib import pyplot as plt\n",
    "import matplotlib.image as mpimg\n",
    "# %matplotlib inline"
   ]
  },
  {
   "cell_type": "code",
   "execution_count": 3,
   "metadata": {},
   "outputs": [],
   "source": [
    "# Reading the csv file\n",
    "df = pd.read_csv(\"maleDataSet.csv\")\n",
    "\n",
    "# Directory of the images\n",
    "# Always use forward slash (/) instead of backslash (\\) in python\n",
    "# Use a forward slash at the end of the path otherwise it will give an error of \"No such file or directory\"\n",
    "src_path = \"G:/python_workspaces/Images To Numpy Array/maleImages/\""
   ]
  },
  {
   "cell_type": "code",
   "execution_count": 4,
   "metadata": {},
   "outputs": [],
   "source": [
    "\n",
    "files = []\n",
    "defectedImagesIDs = []\n",
    "goodImagesIDs = []\n",
    "folderPathOfImage = \"G:/python_workspaces/Images To Numpy Array/maleImages/\"\n",
    "resultantFlattenedNumpyArray = []\n",
    "\n",
    "# Separating the defected images from the good images ID wise and storing them in two different lists\n",
    "\n",
    "# WHY WE ARE DOING THIS ? \n",
    "# Because we don't have the same shapes of images in our dataset. \n",
    "for id in df['id']:\n",
    "    \n",
    "    # saving the path of the image in a variable because we have to use it to read the image using `io.imread()` function. \n",
    "    # The Path of the Image will be passed as an argument to the `io.imread()` function.\n",
    "    imagePathVariable = folderPathOfImage + str(id)+'.jpg'\n",
    "    # print(imagePathVariable)\n",
    "    \n",
    "    # Opening the image whose path is stored in the variable `imagePathVariable`\n",
    "    image = Image.open(imagePathVariable)\n",
    "    \n",
    "    # Using numpy.array() function to convert the image to numpy array\n",
    "    # some shapes of the images are (80, 60, 3) and some are (80, 60)\n",
    "    numpyArrayImg = numpy.array(image)\n",
    "    \n",
    "    a = (numpyArrayImg.shape)\n",
    "    \n",
    "    if a == (80, 60, 3):\n",
    "        goodImagesIDs.append(id)\n",
    "    \n",
    "    #     count = count + 1\n",
    "    #     # print(\"yes\")\n",
    "    else:\n",
    "        defectedImagesIDs.append(id)\n",
    "        # This will delete the row from the dataframe whose id is present in the list `defectedImagesIDs`\n",
    "        df.drop(df[df['id'] == id].index, inplace = True)\n",
    "    #     print(\"NO\")\n",
    "    \n",
    "    \n",
    "    "
   ]
  },
  {
   "cell_type": "code",
   "execution_count": 5,
   "metadata": {},
   "outputs": [
    {
     "name": "stdout",
     "output_type": "stream",
     "text": [
      "24761\n",
      "299\n",
      "25060\n"
     ]
    }
   ],
   "source": [
    "print(len(goodImagesIDs))\n",
    "print(len(defectedImagesIDs))\n",
    "print(len(goodImagesIDs) + len(defectedImagesIDs))"
   ]
  },
  {
   "cell_type": "code",
   "execution_count": 6,
   "metadata": {},
   "outputs": [
    {
     "data": {
      "text/plain": [
       "id                    24761\n",
       "gender                24761\n",
       "masterCategory        24761\n",
       "subCategory           24761\n",
       "articleType           24761\n",
       "baseColour            24761\n",
       "season                24761\n",
       "year                  24761\n",
       "usage                 24761\n",
       "productDisplayName    24761\n",
       "dtype: int64"
      ]
     },
     "execution_count": 6,
     "metadata": {},
     "output_type": "execute_result"
    }
   ],
   "source": [
    "df.count()\n",
    "# >> 24761 \n",
    "# This is the number of good images having uniformed shape i.e (80, 60, 3) in the dataset"
   ]
  },
  {
   "cell_type": "code",
   "execution_count": 9,
   "metadata": {},
   "outputs": [],
   "source": [
    "# count = 0\n",
    "file = open(\"file1.txt\", \"w+\")\n",
    "\n",
    "for i in goodImagesIDs:\n",
    "    \n",
    "    imagePathVariable = folderPathOfImage + str(i)+'.jpg'\n",
    "    image = Image.open(imagePathVariable)\n",
    "    numpyArrayImg = numpy.array(image)\n",
    "    flattenedNumpyArray = numpyArrayImg.flatten()\n",
    "    \n",
    "    for j in range(0, len(flattenedNumpyArray)):\n",
    "        # Writing the flattened numpy array to a text file\n",
    "        # you can only write str in a text file\n",
    "        \n",
    "        # flattenedNumpyArray[j] we have to access each element of the flattened array because if we don't do that it will write like this [255, 255, ... , 255, 212] \n",
    "        # and the elements between the commas will not be shown in the text file and csv file.\n",
    "        \n",
    "        content = str(flattenedNumpyArray[j]) + \",\"\n",
    "        \n",
    "        file.write(content)\n",
    "        \n",
    "    # \"\\n\" is used to go to the next line in the text file\n",
    "    # when a single image's flattened numpy array is written to the text file, we need to go to the next line\n",
    "    file.write(\"\\n\")\n",
    "    resultantFlattenedNumpyArray.append([flattenedNumpyArray])\n",
    "    files.append(imagePathVariable)\n",
    "    # count = count + 1\n",
    "    \n",
    "# Closing the file is very important otherwise it will give an error of \"Permission Denied\"\n",
    "file.close()\n",
    "\n"
   ]
  },
  {
   "cell_type": "code",
   "execution_count": 11,
   "metadata": {},
   "outputs": [],
   "source": [
    "# Since File is huge, we will not be able to display it in the console\n",
    "# WARNING DO NOT RUN THIS COMMENTED CODE. \n",
    "\n",
    "\n",
    "# # Displaying the contents of the text file\n",
    "# file = open(\"file1.txt\", \"r\")\n",
    "# content = file.read()\n",
    "\n",
    "# print(\"\\nContent in file1.txt:\\n\", content)\n",
    "# file.close()"
   ]
  },
  {
   "cell_type": "code",
   "execution_count": null,
   "metadata": {},
   "outputs": [],
   "source": [
    "# # Saving the flattened numpy array in a csv file\n",
    "\n",
    "# dataframe = pd.DataFrame(resultantFlattenedNumpyArray)"
   ]
  },
  {
   "cell_type": "code",
   "execution_count": null,
   "metadata": {},
   "outputs": [],
   "source": [
    "# Created a csv file named \"flattenedNumpyImages.csv\" and stored the flattened numpy array in it.\n",
    "\n",
    "# dataframe.to_csv(\"flattenedNumpyImages.csv\", index=False)"
   ]
  },
  {
   "cell_type": "code",
   "execution_count": null,
   "metadata": {},
   "outputs": [
    {
     "data": {
      "text/html": [
       "<div>\n",
       "<style scoped>\n",
       "    .dataframe tbody tr th:only-of-type {\n",
       "        vertical-align: middle;\n",
       "    }\n",
       "\n",
       "    .dataframe tbody tr th {\n",
       "        vertical-align: top;\n",
       "    }\n",
       "\n",
       "    .dataframe thead th {\n",
       "        text-align: right;\n",
       "    }\n",
       "</style>\n",
       "<table border=\"1\" class=\"dataframe\">\n",
       "  <thead>\n",
       "    <tr style=\"text-align: right;\">\n",
       "      <th></th>\n",
       "      <th>0</th>\n",
       "    </tr>\n",
       "  </thead>\n",
       "  <tbody>\n",
       "    <tr>\n",
       "      <th>0</th>\n",
       "      <td>[255, 255, 255, 255, 255, 255, 255, 255, 255, ...</td>\n",
       "    </tr>\n",
       "    <tr>\n",
       "      <th>1</th>\n",
       "      <td>[255, 255, 255, 255, 255, 255, 255, 255, 255, ...</td>\n",
       "    </tr>\n",
       "    <tr>\n",
       "      <th>2</th>\n",
       "      <td>[255, 255, 255, 255, 255, 255, 255, 255, 255, ...</td>\n",
       "    </tr>\n",
       "    <tr>\n",
       "      <th>3</th>\n",
       "      <td>[255, 255, 255, 255, 255, 255, 255, 255, 255, ...</td>\n",
       "    </tr>\n",
       "    <tr>\n",
       "      <th>4</th>\n",
       "      <td>[255, 255, 255, 255, 255, 255, 255, 255, 255, ...</td>\n",
       "    </tr>\n",
       "  </tbody>\n",
       "</table>\n",
       "</div>"
      ],
      "text/plain": [
       "                                                   0\n",
       "0  [255, 255, 255, 255, 255, 255, 255, 255, 255, ...\n",
       "1  [255, 255, 255, 255, 255, 255, 255, 255, 255, ...\n",
       "2  [255, 255, 255, 255, 255, 255, 255, 255, 255, ...\n",
       "3  [255, 255, 255, 255, 255, 255, 255, 255, 255, ...\n",
       "4  [255, 255, 255, 255, 255, 255, 255, 255, 255, ..."
      ]
     },
     "execution_count": 12,
     "metadata": {},
     "output_type": "execute_result"
    }
   ],
   "source": [
    "# dataframe.head()"
   ]
  },
  {
   "cell_type": "code",
   "execution_count": null,
   "metadata": {},
   "outputs": [
    {
     "name": "stdout",
     "output_type": "stream",
     "text": [
      "0    [255, 255, 255, 255, 255, 255, 255, 255, 255, ...\n",
      "Name: 0, dtype: object\n"
     ]
    }
   ],
   "source": [
    "# firstRow = dataframe.iloc[0]\n",
    "# print(firstRow)"
   ]
  },
  {
   "cell_type": "code",
   "execution_count": null,
   "metadata": {},
   "outputs": [
    {
     "name": "stdout",
     "output_type": "stream",
     "text": [
      "<class 'pandas.core.frame.DataFrame'>\n",
      "RangeIndex: 24761 entries, 0 to 24760\n",
      "Data columns (total 1 columns):\n",
      " #   Column  Non-Null Count  Dtype \n",
      "---  ------  --------------  ----- \n",
      " 0   0       24761 non-null  object\n",
      "dtypes: object(1)\n",
      "memory usage: 193.6+ KB\n"
     ]
    }
   ],
   "source": [
    "# dataframe.info()"
   ]
  },
  {
   "cell_type": "markdown",
   "metadata": {},
   "source": [
    "Labelling Of Fashion Dataset according to two classifications. \n",
    "1. Topwear or Bottomwear.\n",
    "2. Casual or Formal."
   ]
  },
  {
   "cell_type": "code",
   "execution_count": null,
   "metadata": {},
   "outputs": [],
   "source": [
    "# Geting IDs of the images in a list\n",
    "\n",
    "# idsList = []\n",
    "# for id in df['id']:\n",
    "#     idsList.append([id])\n",
    "#     # print(type(id))\n",
    "#     # appending the subC\n",
    "\n",
    "# labels = []\n",
    "\n",
    "# count = 0\n",
    "# for i in range(0, len(goodImagesIDs)):\n",
    "#     # labels.append([df._get_value(i, 'id')])\n",
    "#     idLabel = df._get_value(i, 'id')\n",
    "#     articleTypeLabel = df._get_value(i, 'articleType')\n",
    "#     # usageTypeLabel = df.__get_value(i, 'usage')\n",
    "#     subCategoryLabel = df._get_value(i, 'subCategory')\n",
    "#     labels.append([idLabel, articleTypeLabel, subCategoryLabel])\n",
    "#     # print(idLabel, articleTypeLabel, subCategoryLabel)\n",
    "#     # print(labels)\n",
    "\n",
    "# Output of labels\n",
    "# >> []\n",
    "    \n",
    "    # labels.apend()\n",
    "# print(labels)\n",
    "# print(len(labels))\n",
    "# [[15970, 'Shirts', 'Topwear'], \n",
    "# [39386, 'Jeans', 'Eyewear'], \n",
    "# [21379, 'Track Pants', 'Bottomwear'], \n",
    "# [53759, 'Tshirts', 'Topwear'], \n",
    "# [1855, 'Tshirts', 'Topwear'], \n",
    "# [30805, 'Shirts', 'Topwear'], .... ]]\n"
   ]
  },
  {
   "cell_type": "code",
   "execution_count": null,
   "metadata": {},
   "outputs": [
    {
     "name": "stdout",
     "output_type": "stream",
     "text": [
      "88\n",
      "Classes of  articleType Column: Tshirts           5843\n",
      "Shirts            2920\n",
      "Casual Shoes      2498\n",
      "Watches           1624\n",
      "Sports Shoes      1623\n",
      "                  ... \n",
      "Sunscreen            1\n",
      "Heels                1\n",
      "Tunics               1\n",
      "Cushion Covers       1\n",
      "Tights               1\n",
      "Name: articleType, Length: 88, dtype: int64\n"
     ]
    }
   ],
   "source": [
    "# print(len(df['articleType'].value_counts()))\n",
    "# print(\"Classes of  articleType Column:\", df['articleType'].value_counts())"
   ]
  },
  {
   "cell_type": "code",
   "execution_count": null,
   "metadata": {},
   "outputs": [
    {
     "name": "stdout",
     "output_type": "stream",
     "text": [
      "        articleType\n",
      "0            Shirts\n",
      "1             Jeans\n",
      "2       Track Pants\n",
      "3           Tshirts\n",
      "4           Tshirts\n",
      "...             ...\n",
      "25055     Rucksacks\n",
      "25056       Tshirts\n",
      "25057       Watches\n",
      "25058  Casual Shoes\n",
      "25059     Backpacks\n",
      "\n",
      "[25060 rows x 1 columns]\n"
     ]
    }
   ],
   "source": [
    "# # Manually getting the articleType labels\n",
    "# # formt of iloc is iloc[row, column]\n",
    "# articleTypeColumnDataframe = df.iloc[:,4:5]\n",
    "\n",
    "# print(articleTypeColumnDataframe) \n"
   ]
  },
  {
   "cell_type": "code",
   "execution_count": null,
   "metadata": {},
   "outputs": [],
   "source": [
    "# df.drop(['articleType', ], axis=1, inplace=True)"
   ]
  },
  {
   "cell_type": "code",
   "execution_count": null,
   "metadata": {},
   "outputs": [],
   "source": [
    "# # Manually getting the articleType labels\n",
    "# # formt of iloc is iloc[row, column]\n",
    "# articleTypeColumnDataframe = df.iloc[:,4:5]\n",
    "\n",
    "# print(articleTypeColumnDataframe) \n"
   ]
  },
  {
   "cell_type": "code",
   "execution_count": null,
   "metadata": {},
   "outputs": [
    {
     "data": {
      "text/html": [
       "<div>\n",
       "<style scoped>\n",
       "    .dataframe tbody tr th:only-of-type {\n",
       "        vertical-align: middle;\n",
       "    }\n",
       "\n",
       "    .dataframe tbody tr th {\n",
       "        vertical-align: top;\n",
       "    }\n",
       "\n",
       "    .dataframe thead th {\n",
       "        text-align: right;\n",
       "    }\n",
       "</style>\n",
       "<table border=\"1\" class=\"dataframe\">\n",
       "  <thead>\n",
       "    <tr style=\"text-align: right;\">\n",
       "      <th></th>\n",
       "      <th>id</th>\n",
       "      <th>gender</th>\n",
       "      <th>masterCategory</th>\n",
       "      <th>subCategory</th>\n",
       "      <th>baseColour</th>\n",
       "      <th>season</th>\n",
       "      <th>year</th>\n",
       "      <th>usage</th>\n",
       "      <th>productDisplayName</th>\n",
       "    </tr>\n",
       "  </thead>\n",
       "  <tbody>\n",
       "    <tr>\n",
       "      <th>0</th>\n",
       "      <td>15970</td>\n",
       "      <td>Men</td>\n",
       "      <td>Apparel</td>\n",
       "      <td>Topwear</td>\n",
       "      <td>Navy Blue</td>\n",
       "      <td>Fall</td>\n",
       "      <td>2011</td>\n",
       "      <td>Casual</td>\n",
       "      <td>Turtle Check Men Navy Blue Shirt</td>\n",
       "    </tr>\n",
       "    <tr>\n",
       "      <th>1</th>\n",
       "      <td>39386</td>\n",
       "      <td>Men</td>\n",
       "      <td>Apparel</td>\n",
       "      <td>Eyewear</td>\n",
       "      <td>Blue</td>\n",
       "      <td>Summer</td>\n",
       "      <td>2012</td>\n",
       "      <td>Casual</td>\n",
       "      <td>Peter England Men Party Blue Jeans</td>\n",
       "    </tr>\n",
       "    <tr>\n",
       "      <th>2</th>\n",
       "      <td>21379</td>\n",
       "      <td>Men</td>\n",
       "      <td>Apparel</td>\n",
       "      <td>Bottomwear</td>\n",
       "      <td>Black</td>\n",
       "      <td>Fall</td>\n",
       "      <td>2011</td>\n",
       "      <td>Casual</td>\n",
       "      <td>Manchester United Men Solid Black Track Pants</td>\n",
       "    </tr>\n",
       "    <tr>\n",
       "      <th>3</th>\n",
       "      <td>53759</td>\n",
       "      <td>Men</td>\n",
       "      <td>Apparel</td>\n",
       "      <td>Topwear</td>\n",
       "      <td>Grey</td>\n",
       "      <td>Summer</td>\n",
       "      <td>2012</td>\n",
       "      <td>Casual</td>\n",
       "      <td>Puma Men Grey T-shirt</td>\n",
       "    </tr>\n",
       "    <tr>\n",
       "      <th>4</th>\n",
       "      <td>1855</td>\n",
       "      <td>Men</td>\n",
       "      <td>Apparel</td>\n",
       "      <td>Topwear</td>\n",
       "      <td>Grey</td>\n",
       "      <td>Summer</td>\n",
       "      <td>2011</td>\n",
       "      <td>Casual</td>\n",
       "      <td>Inkfruit Mens Chain Reaction T-shirt</td>\n",
       "    </tr>\n",
       "    <tr>\n",
       "      <th>...</th>\n",
       "      <td>...</td>\n",
       "      <td>...</td>\n",
       "      <td>...</td>\n",
       "      <td>...</td>\n",
       "      <td>...</td>\n",
       "      <td>...</td>\n",
       "      <td>...</td>\n",
       "      <td>...</td>\n",
       "      <td>...</td>\n",
       "    </tr>\n",
       "    <tr>\n",
       "      <th>25055</th>\n",
       "      <td>4594</td>\n",
       "      <td>Unisex</td>\n",
       "      <td>Accessories</td>\n",
       "      <td>Bags</td>\n",
       "      <td>Red</td>\n",
       "      <td>Winter</td>\n",
       "      <td>2015</td>\n",
       "      <td>Casual</td>\n",
       "      <td>Wildcraft Unisex Red &amp; Grey Rucksack</td>\n",
       "    </tr>\n",
       "    <tr>\n",
       "      <th>25056</th>\n",
       "      <td>3745</td>\n",
       "      <td>Unisex</td>\n",
       "      <td>Apparel</td>\n",
       "      <td>Topwear</td>\n",
       "      <td>Yellow</td>\n",
       "      <td>Summer</td>\n",
       "      <td>2011</td>\n",
       "      <td>Casual</td>\n",
       "      <td>Tantra Kid's Cool Yellow Kidswear</td>\n",
       "    </tr>\n",
       "    <tr>\n",
       "      <th>25057</th>\n",
       "      <td>59218</td>\n",
       "      <td>Unisex</td>\n",
       "      <td>Accessories</td>\n",
       "      <td>Watches</td>\n",
       "      <td>Black</td>\n",
       "      <td>Winter</td>\n",
       "      <td>2016</td>\n",
       "      <td>Casual</td>\n",
       "      <td>Titan Him &amp; Her Black Watches</td>\n",
       "    </tr>\n",
       "    <tr>\n",
       "      <th>25058</th>\n",
       "      <td>24670</td>\n",
       "      <td>Unisex</td>\n",
       "      <td>Footwear</td>\n",
       "      <td>Shoes</td>\n",
       "      <td>White</td>\n",
       "      <td>Fall</td>\n",
       "      <td>2010</td>\n",
       "      <td>Casual</td>\n",
       "      <td>Converse Unisex Floral Print Casual Shoes</td>\n",
       "    </tr>\n",
       "    <tr>\n",
       "      <th>25059</th>\n",
       "      <td>7781</td>\n",
       "      <td>Unisex</td>\n",
       "      <td>Accessories</td>\n",
       "      <td>Bags</td>\n",
       "      <td>Blue</td>\n",
       "      <td>Winter</td>\n",
       "      <td>2015</td>\n",
       "      <td>Casual</td>\n",
       "      <td>Wildcraft Unisex Blue Backpack</td>\n",
       "    </tr>\n",
       "  </tbody>\n",
       "</table>\n",
       "<p>25060 rows × 9 columns</p>\n",
       "</div>"
      ],
      "text/plain": [
       "          id  gender masterCategory subCategory baseColour  season  year  \\\n",
       "0      15970     Men        Apparel     Topwear  Navy Blue    Fall  2011   \n",
       "1      39386     Men        Apparel     Eyewear       Blue  Summer  2012   \n",
       "2      21379     Men        Apparel  Bottomwear      Black    Fall  2011   \n",
       "3      53759     Men        Apparel     Topwear       Grey  Summer  2012   \n",
       "4       1855     Men        Apparel     Topwear       Grey  Summer  2011   \n",
       "...      ...     ...            ...         ...        ...     ...   ...   \n",
       "25055   4594  Unisex    Accessories        Bags        Red  Winter  2015   \n",
       "25056   3745  Unisex        Apparel     Topwear     Yellow  Summer  2011   \n",
       "25057  59218  Unisex    Accessories     Watches      Black  Winter  2016   \n",
       "25058  24670  Unisex       Footwear       Shoes      White    Fall  2010   \n",
       "25059   7781  Unisex    Accessories        Bags       Blue  Winter  2015   \n",
       "\n",
       "        usage                             productDisplayName  \n",
       "0      Casual               Turtle Check Men Navy Blue Shirt  \n",
       "1      Casual             Peter England Men Party Blue Jeans  \n",
       "2      Casual  Manchester United Men Solid Black Track Pants  \n",
       "3      Casual                          Puma Men Grey T-shirt  \n",
       "4      Casual           Inkfruit Mens Chain Reaction T-shirt  \n",
       "...       ...                                            ...  \n",
       "25055  Casual           Wildcraft Unisex Red & Grey Rucksack  \n",
       "25056  Casual              Tantra Kid's Cool Yellow Kidswear  \n",
       "25057  Casual                  Titan Him & Her Black Watches  \n",
       "25058  Casual      Converse Unisex Floral Print Casual Shoes  \n",
       "25059  Casual                 Wildcraft Unisex Blue Backpack  \n",
       "\n",
       "[25060 rows x 9 columns]"
      ]
     },
     "execution_count": 37,
     "metadata": {},
     "output_type": "execute_result"
    }
   ],
   "source": [
    "# df"
   ]
  },
  {
   "cell_type": "code",
   "execution_count": null,
   "metadata": {},
   "outputs": [],
   "source": [
    "# def ndArray_Flattened(folderPathOfImage):\n",
    "#     files = []\n",
    "#     resultantFlattenedNumpyArray = []\n",
    "#     for id in df['id']:\n",
    "#         # saving the path of the image in a variable because we have to use it to read the image using `io.imread()` function. \n",
    "#         # The Path of the Image will be passed as an argument to the `io.imread()` function.\n",
    "#         imagePathVariable = folderPathOfImage + str(id)+'.jpg'\n",
    "#         # print(imagePathVariable)\n",
    "        \n",
    "#         # Opening the image whose path is stored in the variable `imagePathVariable`\n",
    "#         image = Image.open(imagePathVariable)\n",
    "        \n",
    "#         # Using numpy.array() function to convert the image to numpy array\n",
    "#         numpyArrayImg = numpy.array(image)\n",
    "        \n",
    "#         # flattening the numpy array\n",
    "#         flattenedNumpyArray = numpyArrayImg.flatten()\n",
    "        \n",
    "#         # Resultant flattened numpy array\n",
    "#         # resultantFlattenedNumpyArray is now  a 2-D array\n",
    "#         # resultantFlattenedNumpyArray = [ \n",
    "#         #   [ flattened array of 1st Image], \n",
    "#         #   [flattened array of 2nd Image], .... ]\n",
    "#         # ] \n",
    "#         resultantFlattenedNumpyArray.append([flattenedNumpyArray])\n",
    "        \n",
    "#         # We are storing the path of the image in a list so that we can use it later. \n",
    "#         files.append(imagePathVariable)\n",
    "        \n",
    "#     return (resultantFlattenedNumpyArray)\n",
    "        \n",
    "        \n",
    "        \n",
    "        \n",
    "\n",
    "#     # image = io.imread(addressOfImage)\n",
    "#     # # Using numpy.array() function\n",
    "#     # np_img = numpy.array(image)\n",
    "    "
   ]
  }
 ],
 "metadata": {
  "kernelspec": {
   "display_name": "Python 3.9.4 64-bit",
   "language": "python",
   "name": "python3"
  },
  "language_info": {
   "codemirror_mode": {
    "name": "ipython",
    "version": 3
   },
   "file_extension": ".py",
   "mimetype": "text/x-python",
   "name": "python",
   "nbconvert_exporter": "python",
   "pygments_lexer": "ipython3",
   "version": "3.9.4"
  },
  "orig_nbformat": 4,
  "vscode": {
   "interpreter": {
    "hash": "69713e280fccb9aa802931bf1b98f79efcfe938b3ab1e86cc85b2e647522a81d"
   }
  }
 },
 "nbformat": 4,
 "nbformat_minor": 2
}

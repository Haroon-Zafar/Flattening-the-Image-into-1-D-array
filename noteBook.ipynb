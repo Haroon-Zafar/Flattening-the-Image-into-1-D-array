{
 "cells": [
  {
   "cell_type": "code",
   "execution_count": 2,
   "metadata": {},
   "outputs": [],
   "source": [
    "import numpy \n",
    "from PIL import Image\n",
    "from numpy import asarray\n",
    "import pandas as pd\n",
    "import cv2 as cv\n",
    "from skimage import io\n",
    "from PIL import Image\n",
    "import matplotlib.pylab as plt\n",
    "from numpy import array\n",
    "from sys import getsizeof\n",
    "import pandas as pd\n",
    "import numpy as np\n",
    "import os\n",
    "import tensorflow as tf\n",
    "import cv2\n",
    "from numpy import savetxt\n",
    "# from tensorflow import keras\n",
    "# from tensorflow.keras import layers, Dense, Input, InputLayer, Flatten\n",
    "# from tensorflow.keras.models import Sequential, Model\n",
    "from  matplotlib import pyplot as plt\n",
    "import matplotlib.image as mpimg\n",
    "# %matplotlib inline"
   ]
  },
  {
   "cell_type": "code",
   "execution_count": 3,
   "metadata": {},
   "outputs": [],
   "source": [
    "# Reading the csv file\n",
    "df = pd.read_csv(\"maleDataSet.csv\")\n",
    "\n",
    "# Directory of the images\n",
    "# Always use forward slash (/) instead of backslash (\\) in python\n",
    "# Use a forward slash at the end of the path otherwise it will give an error of \"No such file or directory\"\n",
    "src_path = \"G:/python_workspaces/Images To Numpy Array/maleImages/\""
   ]
  },
  {
   "cell_type": "markdown",
   "metadata": {},
   "source": [
    "CREATING A METHOD WHICH WILL RETURN FLATTENED ARRAY OF ALL IMAGES.\n",
    "\n",
    "1. Creating a Method which will take local directory path of the image as parameter.\n",
    "\n",
    "2. This Local Address will be used to open the image \n",
    "    for example : image = Image.open('G:/python_workspaces/Images To Numpy Array/maleImages/9662.jpg')\n",
    "\n",
    "3. Once the Images is opened, it is converted into an NDARRAY \n",
    "\n",
    "4. Now this NDARRAY is flattened i.e Converted into 1D Array. \n",
    "\n",
    "5. Since all of the above steps are for Single Image, implemnet a for loop for Multiple Images.\n",
    "\n",
    "6. When a single image is Flattened, append it into another array. Repeat for all Images. \n",
    "\n",
    "7. Resultant Array which is flattened is 2-Dimensional Array. "
   ]
  },
  {
   "cell_type": "code",
   "execution_count": 3,
   "metadata": {},
   "outputs": [],
   "source": [
    "# def ndArray_Flattened(folderPathOfImage):\n",
    "#     files = []\n",
    "#     resultantFlattenedNumpyArray = []\n",
    "#     for id in df['id']:\n",
    "#         # saving the path of the image in a variable because we have to use it to read the image using `io.imread()` function. \n",
    "#         # The Path of the Image will be passed as an argument to the `io.imread()` function.\n",
    "#         imagePathVariable = folderPathOfImage + str(id)+'.jpg'\n",
    "#         # print(imagePathVariable)\n",
    "        \n",
    "#         # Opening the image whose path is stored in the variable `imagePathVariable`\n",
    "#         image = Image.open(imagePathVariable)\n",
    "        \n",
    "#         # Using numpy.array() function to convert the image to numpy array\n",
    "#         numpyArrayImg = numpy.array(image)\n",
    "        \n",
    "#         # flattening the numpy array\n",
    "#         flattenedNumpyArray = numpyArrayImg.flatten()\n",
    "        \n",
    "#         # Resultant flattened numpy array\n",
    "#         # resultantFlattenedNumpyArray is now  a 2-D array\n",
    "#         # resultantFlattenedNumpyArray = [ \n",
    "#         #   [ flattened array of 1st Image], \n",
    "#         #   [flattened array of 2nd Image], .... ]\n",
    "#         # ] \n",
    "#         resultantFlattenedNumpyArray.append([flattenedNumpyArray])\n",
    "        \n",
    "#         # We are storing the path of the image in a list so that we can use it later. \n",
    "#         files.append(imagePathVariable)\n",
    "        \n",
    "#     return (resultantFlattenedNumpyArray)\n",
    "        \n",
    "        \n",
    "        \n",
    "        \n",
    "\n",
    "#     # image = io.imread(addressOfImage)\n",
    "#     # # Using numpy.array() function\n",
    "#     # np_img = numpy.array(image)\n",
    "    "
   ]
  },
  {
   "cell_type": "code",
   "execution_count": 4,
   "metadata": {},
   "outputs": [],
   "source": [
    "# storedFlattenedArray = ndArray_Flattened(src_path)"
   ]
  },
  {
   "cell_type": "code",
   "execution_count": 8,
   "metadata": {},
   "outputs": [],
   "source": [
    "\n",
    "files = []\n",
    "defectedImagesIDs = []\n",
    "goodImagesIDs = []\n",
    "folderPathOfImage = \"G:/python_workspaces/Images To Numpy Array/maleImages/\"\n",
    "resultantFlattenedNumpyArray = []\n",
    "\n",
    "# Separating the defected images from the good images ID wise and storing them in two different lists\n",
    "\n",
    "# WHY WE ARE DOING THIS ? \n",
    "# Because we don't have the same shapes of images in our dataset. \n",
    "for id in df['id']:\n",
    "    \n",
    "    # saving the path of the image in a variable because we have to use it to read the image using `io.imread()` function. \n",
    "    # The Path of the Image will be passed as an argument to the `io.imread()` function.\n",
    "    imagePathVariable = folderPathOfImage + str(id)+'.jpg'\n",
    "    # print(imagePathVariable)\n",
    "    \n",
    "    # Opening the image whose path is stored in the variable `imagePathVariable`\n",
    "    image = Image.open(imagePathVariable)\n",
    "    \n",
    "    # Using numpy.array() function to convert the image to numpy array\n",
    "    numpyArrayImg = numpy.array(image)\n",
    "    \n",
    "    a = (numpyArrayImg.shape)\n",
    "    \n",
    "    if a == (80, 60, 3):\n",
    "        goodImagesIDs.append(id)\n",
    "    \n",
    "    #     count = count + 1\n",
    "    #     # print(\"yes\")\n",
    "    else:\n",
    "        defectedImagesIDs.append(id)\n",
    "    #     print(\"NO\")\n",
    "    \n",
    "    \n",
    "    "
   ]
  },
  {
   "cell_type": "code",
   "execution_count": 9,
   "metadata": {},
   "outputs": [
    {
     "name": "stdout",
     "output_type": "stream",
     "text": [
      "24761\n",
      "299\n",
      "25060\n"
     ]
    }
   ],
   "source": [
    "print(len(goodImagesIDs))\n",
    "print(len(defectedImagesIDs))\n",
    "print(len(goodImagesIDs) + len(defectedImagesIDs))"
   ]
  },
  {
   "cell_type": "code",
   "execution_count": 10,
   "metadata": {},
   "outputs": [],
   "source": [
    "for i in goodImagesIDs:\n",
    "    imagePathVariable = folderPathOfImage + str(i)+'.jpg'\n",
    "    image = Image.open(imagePathVariable)\n",
    "    numpyArrayImg = numpy.array(image)\n",
    "    flattenedNumpyArray = numpyArrayImg.flatten()\n",
    "    resultantFlattenedNumpyArray.append([flattenedNumpyArray])\n",
    "    files.append(imagePathVariable)\n",
    "    "
   ]
  },
  {
   "cell_type": "code",
   "execution_count": 19,
   "metadata": {},
   "outputs": [],
   "source": [
    "# # print(len(resultantFlattenedNumpyArray))\n",
    "# # Initializing an empty dataframe\n",
    "\n",
    "# cleanedFlattenedDataFrame = pd.DataFrame()\n",
    "\n",
    "# for i in resultantFlattenedNumpyArray:\n",
    "#     # print(i[0]) # [255 255 255 ... 254 255 253]\n",
    "#     # print(i[0].shape) # (144000,)\n",
    "#     # Inserting the i[0] into the dataframe\n",
    "#     cleanedFlattenedDataFrame = cleanedFlattenedDataFrame.append([i[0]])\n",
    "    \n",
    "\n",
    "#     # append data frame to CSV file\n",
    "    \n",
    "#     # concatenating the dataframes\n",
    "#     # cleanedFlattenedDataFrame = pd.concat([cleanedFlattenedDataFrame, pd.DataFrame(i[0])], axis=0)\n"
   ]
  },
  {
   "cell_type": "code",
   "execution_count": 20,
   "metadata": {},
   "outputs": [],
   "source": [
    "# Saving the flattened numpy array in a csv file\n",
    "\n",
    "dataframe = pd.DataFrame(resultantFlattenedNumpyArray)"
   ]
  },
  {
   "cell_type": "code",
   "execution_count": 22,
   "metadata": {},
   "outputs": [],
   "source": [
    "# Created a csv file named \"flattenedNumpyImages.csv\" and stored the flattened numpy array in it.\n",
    "\n",
    "dataframe.to_csv(\"flattenedNumpyImages.csv\", index=False)"
   ]
  },
  {
   "cell_type": "code",
   "execution_count": 29,
   "metadata": {},
   "outputs": [
    {
     "data": {
      "text/html": [
       "<div>\n",
       "<style scoped>\n",
       "    .dataframe tbody tr th:only-of-type {\n",
       "        vertical-align: middle;\n",
       "    }\n",
       "\n",
       "    .dataframe tbody tr th {\n",
       "        vertical-align: top;\n",
       "    }\n",
       "\n",
       "    .dataframe thead th {\n",
       "        text-align: right;\n",
       "    }\n",
       "</style>\n",
       "<table border=\"1\" class=\"dataframe\">\n",
       "  <thead>\n",
       "    <tr style=\"text-align: right;\">\n",
       "      <th></th>\n",
       "      <th>0</th>\n",
       "    </tr>\n",
       "  </thead>\n",
       "  <tbody>\n",
       "    <tr>\n",
       "      <th>0</th>\n",
       "      <td>[255, 255, 255, 255, 255, 255, 255, 255, 255, ...</td>\n",
       "    </tr>\n",
       "    <tr>\n",
       "      <th>1</th>\n",
       "      <td>[255, 255, 255, 255, 255, 255, 255, 255, 255, ...</td>\n",
       "    </tr>\n",
       "    <tr>\n",
       "      <th>2</th>\n",
       "      <td>[255, 255, 255, 255, 255, 255, 255, 255, 255, ...</td>\n",
       "    </tr>\n",
       "    <tr>\n",
       "      <th>3</th>\n",
       "      <td>[255, 255, 255, 255, 255, 255, 255, 255, 255, ...</td>\n",
       "    </tr>\n",
       "    <tr>\n",
       "      <th>4</th>\n",
       "      <td>[255, 255, 255, 255, 255, 255, 255, 255, 255, ...</td>\n",
       "    </tr>\n",
       "  </tbody>\n",
       "</table>\n",
       "</div>"
      ],
      "text/plain": [
       "                                                   0\n",
       "0  [255, 255, 255, 255, 255, 255, 255, 255, 255, ...\n",
       "1  [255, 255, 255, 255, 255, 255, 255, 255, 255, ...\n",
       "2  [255, 255, 255, 255, 255, 255, 255, 255, 255, ...\n",
       "3  [255, 255, 255, 255, 255, 255, 255, 255, 255, ...\n",
       "4  [255, 255, 255, 255, 255, 255, 255, 255, 255, ..."
      ]
     },
     "execution_count": 29,
     "metadata": {},
     "output_type": "execute_result"
    }
   ],
   "source": [
    "dataframe.head()"
   ]
  },
  {
   "cell_type": "code",
   "execution_count": 28,
   "metadata": {},
   "outputs": [
    {
     "name": "stdout",
     "output_type": "stream",
     "text": [
      "0    [255, 255, 255, 255, 255, 255, 255, 255, 255, ...\n",
      "Name: 0, dtype: object\n"
     ]
    }
   ],
   "source": [
    "firstRow = dataframe.iloc[0]\n",
    "print(firstRow)"
   ]
  },
  {
   "cell_type": "code",
   "execution_count": 95,
   "metadata": {},
   "outputs": [
    {
     "name": "stdout",
     "output_type": "stream",
     "text": [
      "<class 'pandas.core.frame.DataFrame'>\n",
      "RangeIndex: 24761 entries, 0 to 24760\n",
      "Data columns (total 1 columns):\n",
      " #   Column  Non-Null Count  Dtype \n",
      "---  ------  --------------  ----- \n",
      " 0   0       24761 non-null  object\n",
      "dtypes: object(1)\n",
      "memory usage: 193.6+ KB\n"
     ]
    }
   ],
   "source": [
    "dataframe.info()"
   ]
  },
  {
   "cell_type": "markdown",
   "metadata": {},
   "source": [
    "Labelling Of Fashion Dataset according to two classifications. \n",
    "1. Topwear or Bottomwear.\n",
    "2. Casual or Formal."
   ]
  },
  {
   "cell_type": "code",
   "execution_count": 99,
   "metadata": {},
   "outputs": [],
   "source": [
    "# Geting IDs of the images in a list\n",
    "\n",
    "# idsList = []\n",
    "# for id in df['id']:\n",
    "#     idsList.append([id])\n",
    "#     # print(type(id))\n",
    "#     # appending the subC\n",
    "\n",
    "labels = []\n",
    "\n",
    "count = 0\n",
    "for i in range(0, len(df)):\n",
    "    # labels.append([df._get_value(i, 'id')])\n",
    "    idLabel = df._get_value(i, 'id')\n",
    "    articleTypeLabel = df._get_value(i, 'articleType')\n",
    "    # usageTypeLabel = df.__get_value(i, 'usage')\n",
    "    subCategoryLabel = df._get_value(i, 'subCategory')\n",
    "    labels.append([idLabel, articleTypeLabel, subCategoryLabel])\n",
    "    # print(idLabel, articleTypeLabel, subCategoryLabel)\n",
    "    # print(labels)\n",
    "\n",
    "# Output of labels\n",
    "# >> []\n",
    "    \n",
    "    # labels.apend()\n",
    "# print(labels)\n",
    "# print(len(labels))\n",
    "# [[15970, 'Shirts', 'Topwear'], \n",
    "# [39386, 'Jeans', 'Eyewear'], \n",
    "# [21379, 'Track Pants', 'Bottomwear'], \n",
    "# [53759, 'Tshirts', 'Topwear'], \n",
    "# [1855, 'Tshirts', 'Topwear'], \n",
    "# [30805, 'Shirts', 'Topwear'], .... ]]\n"
   ]
  },
  {
   "cell_type": "code",
   "execution_count": null,
   "metadata": {},
   "outputs": [],
   "source": []
  }
 ],
 "metadata": {
  "kernelspec": {
   "display_name": "Python 3.9.4 64-bit",
   "language": "python",
   "name": "python3"
  },
  "language_info": {
   "codemirror_mode": {
    "name": "ipython",
    "version": 3
   },
   "file_extension": ".py",
   "mimetype": "text/x-python",
   "name": "python",
   "nbconvert_exporter": "python",
   "pygments_lexer": "ipython3",
   "version": "3.9.4"
  },
  "orig_nbformat": 4,
  "vscode": {
   "interpreter": {
    "hash": "69713e280fccb9aa802931bf1b98f79efcfe938b3ab1e86cc85b2e647522a81d"
   }
  }
 },
 "nbformat": 4,
 "nbformat_minor": 2
}
